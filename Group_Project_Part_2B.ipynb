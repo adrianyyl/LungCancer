{
 "cells": [
  {
   "cell_type": "code",
   "execution_count": 3,
   "id": "a3d63558-691f-464e-81df-f31fd29281f9",
   "metadata": {},
   "outputs": [],
   "source": [
    "# Import necessary libraries\n",
    "import pandas as pd\n",
    "from sklearn.linear_model import LogisticRegression\n",
    "from sklearn.metrics import f1_score\n",
    "import numpy as np"
   ]
  },
  {
   "cell_type": "code",
   "execution_count": 4,
   "id": "899110da-6b1a-48cb-bfa7-22c22d30d660",
   "metadata": {},
   "outputs": [
    {
     "name": "stdout",
     "output_type": "stream",
     "text": [
      "The F1 Score of the Logistic Regression with ElasticNet Regularisation : 0.9256567915036332\n"
     ]
    }
   ],
   "source": [
    "# Load the test dataset\n",
    "test_data = pd.read_csv(\"lung cancer survey_test.csv\")\n",
    "\n",
    "# Data Cleaning: find + remove rows with missing values and standardise column names\n",
    "test_data.dropna() #dropping na values\n",
    "test_data.columns = test_data.columns.str.replace('_', ' ') #standradised data columns \n",
    "\n",
    "#Seperating the data into relevant predictors and target variable\n",
    "X = test_data.drop(['LUNG CANCER', 'ALLERGY ', 'ANXIETY', 'PEER PRESSURE'], axis=1) #removing target variable and irrelevant predictors\n",
    "y = test_data['LUNG CANCER'] #target variable\n",
    "\n",
    "# Define the final model with the selected regularization parameters\n",
    "elasticnet_logistic_final_model = LogisticRegression(\n",
    "    penalty='elasticnet', \n",
    "    solver='saga', \n",
    "    max_iter=10000, \n",
    "    random_state=888,      # random state for reproducability \n",
    "    C=16.681005372000556,  # C best parameters\n",
    "    l1_ratio=0.01          # l1_ratio best parameters\n",
    ")\n",
    "\n",
    "# Fit the final model on the entire dataset\n",
    "elasticnet_logistic_final_model.fit(X, y)\n",
    "\n",
    "# Predict lung cancer on test data using the trained ElasticNet model\n",
    "y_pred = elasticnet_logistic_final_model.predict(X)\n",
    "\n",
    "# Evaluate the prediction based on F1-Score\n",
    "print(f\"The F1 Score of the Logistic Regression with ElasticNet Regularisation : {f1_score(y, y_pred)}\")"
   ]
  },
  {
   "cell_type": "code",
   "execution_count": null,
   "id": "0c0f07b3",
   "metadata": {},
   "outputs": [],
   "source": []
  }
 ],
 "metadata": {
  "kernelspec": {
   "display_name": "Python 3 (ipykernel)",
   "language": "python",
   "name": "python3"
  },
  "language_info": {
   "codemirror_mode": {
    "name": "ipython",
    "version": 3
   },
   "file_extension": ".py",
   "mimetype": "text/x-python",
   "name": "python",
   "nbconvert_exporter": "python",
   "pygments_lexer": "ipython3",
   "version": "3.12.4"
  }
 },
 "nbformat": 4,
 "nbformat_minor": 5
}
